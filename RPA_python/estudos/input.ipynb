{
 "cells": [
  {
   "cell_type": "code",
   "execution_count": null,
   "metadata": {},
   "outputs": [],
   "source": [
    "nome = input(\"Digite seu nome: \\n\")\n",
    "\n",
    "print(\"\\n O seu nome é: \" + nome)"
   ]
  },
  {
   "cell_type": "code",
   "execution_count": null,
   "metadata": {},
   "outputs": [],
   "source": [
    "nome = input(\"Digite seu nome: \\n\")\n",
    "nota1 = float(input(\"Digite a nota 1: \"))\n",
    "nota2 = float(input(\"Digite a nota 2: \"))\n",
    "\n",
    "media = (nota1 + nota2) /2\n",
    "print(\"\\n Aluno:\", nome, \"media:\", media)"
   ]
  },
  {
   "cell_type": "code",
   "execution_count": null,
   "metadata": {},
   "outputs": [],
   "source": [
    "   # exercecio tabuada personalizada\n",
    "\n",
    "# programa deve imprimir dezlinhas, mostrando o \n",
    "# resultado da multiplicação co numero digitado com os numeros \n",
    "# de 1 a 10, no formato n * i = reultado \n",
    "\n",
    "# 1º.Qual a tabuada deseja ver?\n",
    "\n",
    "xdigitado = int(input(\"A tabuada deseja ver? \"))\n",
    "print(xdigitado, \" * 1=\", xdigitado * 1)\n",
    "print(xdigitado, \" * 2=\", xdigitado * 2)\n",
    "print(xdigitado, \" * 3=\", xdigitado * 3)\n",
    "print(xdigitado, \" * 4=\", xdigitado * 4)\n",
    "print(xdigitado, \" * 5=\", xdigitado * 5)\n",
    "print(xdigitado, \" * 6=\", xdigitado * 6)\n",
    "print(xdigitado, \" * 7=\", xdigitado * 7)\n",
    "print(xdigitado, \" * 8=\", xdigitado * 8)\n",
    "print(xdigitado, \" * 9=\", xdigitado * 9)\n",
    "print(xdigitado, \" * 10=\", xdigitado * 10)"
   ]
  },
  {
   "cell_type": "code",
   "execution_count": null,
   "metadata": {},
   "outputs": [],
   "source": [
    "# tabulada de forma mas sucinta \n",
    "\n",
    "def imprimir_tabuada(numero):\n",
    "    for i in range(1, 11):\n",
    "        print(f\"{numero} x {i} = {numero * i}\")\n",
    "\n",
    "xdigitado = int(input(\"Qual tabuada deseja ver? \"))\n",
    "imprimir_tabuada(xdigitado)"
   ]
  },
  {
   "cell_type": "code",
   "execution_count": null,
   "metadata": {},
   "outputs": [],
   "source": [
    "\"\"\"     \n",
    "Exercicio\n",
    "\n",
    "crie um algoritmo que solicite o ano de \n",
    "nascimento do usuario e com base no ano imprima a idade \n",
    "\"\"\" \n",
    "\n",
    "ano_nascimento = int(input(\"Digite o ano que você nasceu: \"))\n",
    "ano_atual = 2024  # Substitua pelo ano atual desejado\n",
    "\n",
    "idade = ano_atual - ano_nascimento\n",
    "\n",
    "print(f\"Você nasceu em {ano_nascimento} e tem {idade} anos.\")\n"
   ]
  },
  {
   "cell_type": "code",
   "execution_count": null,
   "metadata": {},
   "outputs": [],
   "source": []
  },
  {
   "cell_type": "code",
   "execution_count": null,
   "metadata": {},
   "outputs": [],
   "source": []
  },
  {
   "cell_type": "code",
   "execution_count": null,
   "metadata": {},
   "outputs": [],
   "source": []
  },
  {
   "cell_type": "code",
   "execution_count": null,
   "metadata": {},
   "outputs": [],
   "source": []
  },
  {
   "cell_type": "code",
   "execution_count": null,
   "metadata": {},
   "outputs": [],
   "source": []
  },
  {
   "cell_type": "code",
   "execution_count": null,
   "metadata": {},
   "outputs": [],
   "source": []
  },
  {
   "cell_type": "code",
   "execution_count": null,
   "metadata": {},
   "outputs": [],
   "source": []
  },
  {
   "cell_type": "code",
   "execution_count": null,
   "metadata": {},
   "outputs": [],
   "source": []
  },
  {
   "cell_type": "code",
   "execution_count": null,
   "metadata": {},
   "outputs": [],
   "source": []
  },
  {
   "cell_type": "code",
   "execution_count": null,
   "metadata": {},
   "outputs": [],
   "source": []
  },
  {
   "cell_type": "code",
   "execution_count": null,
   "metadata": {},
   "outputs": [],
   "source": []
  },
  {
   "cell_type": "code",
   "execution_count": null,
   "metadata": {},
   "outputs": [],
   "source": []
  },
  {
   "cell_type": "code",
   "execution_count": null,
   "metadata": {},
   "outputs": [],
   "source": []
  },
  {
   "cell_type": "code",
   "execution_count": null,
   "metadata": {},
   "outputs": [],
   "source": []
  },
  {
   "cell_type": "code",
   "execution_count": null,
   "metadata": {},
   "outputs": [],
   "source": []
  }
 ],
 "metadata": {
  "language_info": {
   "name": "python"
  }
 },
 "nbformat": 4,
 "nbformat_minor": 2
}
