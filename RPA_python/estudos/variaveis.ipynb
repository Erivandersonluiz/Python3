{
 "cells": [
  {
   "cell_type": "code",
   "execution_count": null,
   "metadata": {
    "vscode": {
     "languageId": "plaintext"
    }
   },
   "outputs": [],
   "source": [
    "idade = 32\n",
    "nome = \" cristina\"\n",
    "\n",
    "print(\"Nome:\", nome)\n",
    "print(\"Idade:\", idade)\n",
    "print(\"Nome:\", nome, \", Idade:\", idade)"
   ]
  },
  {
   "cell_type": "code",
   "execution_count": null,
   "metadata": {
    "vscode": {
     "languageId": "plaintext"
    }
   },
   "outputs": [],
   "source": [
    "# quando escreve o TYPE na frente e para saber \n",
    "# qual o tipo dela variavel\n",
    "\n",
    "nome = str(\"cristina\")\n",
    "idade = 31\n",
    "\n",
    "print(type(nome))\n",
    "print(type(idade))"
   ]
  },
  {
   "cell_type": "code",
   "execution_count": null,
   "metadata": {
    "vscode": {
     "languageId": "plaintext"
    }
   },
   "outputs": [],
   "source": [
    "# atribuindo valor de uma variavel em uma so linha\n",
    "\n",
    "var1, var2, var3, var4 = \"Texto 1\", \"Texto 2\", \"Texto 3\", \"Texto 4\"\n",
    "print(var1)\n",
    "print(var2)\n",
    "print(var3)\n",
    "print(var4)"
   ]
  },
  {
   "cell_type": "code",
   "execution_count": null,
   "metadata": {
    "vscode": {
     "languageId": "plaintext"
    }
   },
   "outputs": [],
   "source": [
    "# atribuindo valor de uma variavel em uma so linha\n",
    "\n",
    "var1, var2, var3, var4 = \"Texto 1\", \"Texto 2\", \"Texto 3\", \"Texto 4\"\n",
    "print(var1)\n",
    "print(var2)\n",
    "print(var3)\n",
    "print(var4)\n",
    "\n",
    "\n",
    "# podemos atribuir o mesmo valor a varias variaveis em uma unica linha \n",
    "var1 = var2 =  var3 = var4 = \"cristina\" \n",
    "print(var1)\n",
    "print(var2)\n",
    "print(var3)\n",
    "print(var4)\n",
    "\n",
    "\n",
    "# Se tiver uma colecao de valores em uma Lista,\n",
    "#  podemos extrair em variaveis. \n",
    "# Isso e chamado de descompactar \n",
    "novidade = 1, \"Texto 2\", 3, \"Texto 4\"\n",
    "var1, var2, var3, var4  = novidade \n",
    "\n",
    "print(type(var1))\n",
    "print(var2)\n",
    "print(type(var3))\n",
    "print(var4)"
   ]
  },
  {
   "cell_type": "code",
   "execution_count": null,
   "metadata": {
    "vscode": {
     "languageId": "plaintext"
    }
   },
   "outputs": [],
   "source": [
    "# para fazer a ligacao das frases pode uma \n",
    "# o \" + \"  ou \" , \" lembrando que o \" + \" \n",
    "# ele nao aceita numero e a  \" , \" ele aceita o numero\n",
    "\n",
    "nome = \"cristina\"\n",
    "\n",
    "print(\"O nome dela e \" + nome)"
   ]
  }
 ],
 "metadata": {
  "language_info": {
   "name": "python"
  }
 },
 "nbformat": 4,
 "nbformat_minor": 2
}
