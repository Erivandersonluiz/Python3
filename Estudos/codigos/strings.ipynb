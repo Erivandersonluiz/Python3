{
 "cells": [
  {
   "cell_type": "code",
   "execution_count": 5,
   "metadata": {},
   "outputs": [
    {
     "name": "stdout",
     "output_type": "stream",
     "text": [
      "P\n",
      "y\n",
      "t\n",
      "h\n",
      "o\n",
      "n\n"
     ]
    }
   ],
   "source": [
    "# mostrando a posição das letras \n",
    "posicaoLetra = \"Python\"\n",
    "print(posicaoLetra[0])\n",
    "print(posicaoLetra[1])\n",
    "print(posicaoLetra[2])\n",
    "print(posicaoLetra[3])\n",
    "print(posicaoLetra[4])\n",
    "print(posicaoLetra[5])"
   ]
  },
  {
   "cell_type": "code",
   "execution_count": 19,
   "metadata": {},
   "outputs": [
    {
     "name": "stdout",
     "output_type": "stream",
     "text": [
      " mun\n",
      "Olá, m\n",
      "mundo!\n"
     ]
    }
   ],
   "source": [
    "\n",
    "# Extraindo parte de uma string\n",
    "\"\"\"Slice\"\"\"\n",
    "\n",
    "# mostrando a posição dentro de uma frase \n",
    "frase = \"Olá, mundo!\"\n",
    "parte = frase[4:8] # saida = mun\n",
    "print(parte)\n",
    "\n",
    "primeira_frase = frase[ :6]\n",
    "print(primeira_frase)\n",
    "\n",
    "ultima_frase = frase [-6: ]\n",
    "print(ultima_frase)"
   ]
  },
  {
   "cell_type": "code",
   "execution_count": 3,
   "metadata": {},
   "outputs": [
    {
     "name": "stdout",
     "output_type": "stream",
     "text": [
      "True\n"
     ]
    }
   ],
   "source": [
    "frase = \" O modulo de python é muito legal\"\n",
    "\n",
    "print(\"python\" in frase )\n"
   ]
  },
  {
   "cell_type": "code",
   "execution_count": 8,
   "metadata": {},
   "outputs": [
    {
     "name": "stdout",
     "output_type": "stream",
     "text": [
      "Sim, a palavra 'python' está presenste na frase\n"
     ]
    }
   ],
   "source": [
    "# Verifica palavra na frase \n",
    "\n",
    "# if -> SE \n",
    "# in -> onde \n",
    "\n",
    "frase = \"O modulo de python é muito legal \"\n",
    "\n",
    "if \"python\" in frase:\n",
    "    print(\"Sim, a palavra 'python' está presenste na frase\")"
   ]
  },
  {
   "cell_type": "code",
   "execution_count": null,
   "metadata": {},
   "outputs": [
    {
     "name": "stdout",
     "output_type": "stream",
     "text": [
      "O modulo de python é muito legal\n"
     ]
    }
   ],
   "source": [
    "# como retira os espaços na frase \n",
    "\n",
    "frase = \"           O modulo de python é muito le             \"\n",
    "\n",
    "print(frase.strip())"
   ]
  },
  {
   "cell_type": "code",
   "execution_count": 10,
   "metadata": {},
   "outputs": [
    {
     "name": "stdout",
     "output_type": "stream",
     "text": [
      "['Ola,', 'como', 'vai', 'você?']\n"
     ]
    }
   ],
   "source": [
    "# split, join e strip são metodos muito uteis no str\n",
    "\n",
    "frase = \"Ola, como vai você?\"\n",
    "palavras = frase.split()\n",
    "\n",
    "print(palavras)"
   ]
  },
  {
   "cell_type": "code",
   "execution_count": 13,
   "metadata": {},
   "outputs": [
    {
     "name": "stdout",
     "output_type": "stream",
     "text": [
      "Ola, como vai você?\n"
     ]
    }
   ],
   "source": [
    "# join é um metodo muito utio no str \n",
    "\n",
    "palavras = ['Ola,', 'como', 'vai', 'você?']\n",
    "frase = ' '.join(palavras)\n",
    "print(frase)"
   ]
  },
  {
   "cell_type": "code",
   "execution_count": 19,
   "metadata": {},
   "outputs": [
    {
     "name": "stdout",
     "output_type": "stream",
     "text": [
      "Olá\n",
      "Olá\n",
      "Olá\n"
     ]
    }
   ],
   "source": [
    "# o strip ele remove todo caracter do texto e é muito utel no str\n",
    "\n",
    "texto = \"*******Olá********\"\n",
    "texto_strip = texto.strip('*')\n",
    "\n",
    "print(texto_strip)\n",
    "\n",
    "\n",
    "texto = \"       Olá         \"\n",
    "texto_strip = texto.strip()\n",
    "\n",
    "print(texto_strip)\n",
    "\n",
    "\n",
    "texto = \"/////////Olá********\"\n",
    "texto_strip = texto.strip('/*')\n",
    "\n",
    "print(texto_strip)"
   ]
  },
  {
   "cell_type": "code",
   "execution_count": 2,
   "metadata": {},
   "outputs": [
    {
     "name": "stdout",
     "output_type": "stream",
     "text": [
      "OI, meu nome é pamela eu tenho 29 e minha altura é de 1.67\n"
     ]
    }
   ],
   "source": [
    "nome = \"pamela\" \n",
    "idade = 29\n",
    "altura = 1.67\n",
    "\n",
    "\n",
    "mensagem = f\"OI, meu nome é {nome} eu tenho {idade} e minha altura é de {altura}\"\n",
    "\n",
    "print(mensagem)"
   ]
  },
  {
   "cell_type": "code",
   "execution_count": null,
   "metadata": {},
   "outputs": [],
   "source": [
    "texto = \"Olá, mundo!\"\n",
    "\n",
    "texto_upper = texto.upper()\n",
    "print(texto_upper)\n",
    "\n",
    "texto_lower = texto.lower()\n",
    "print(texto_lower)\n",
    "\n",
    "texto_capitalizer = texto.capitalize()\n",
    "print(texto.capitalize)\n",
    "\n",
    "ocorrencias = texto.count(\"o\")\n",
    "print(ocorrencias)\n",
    "\n",
    "texto_substituido = texto.replace(\"mundo\", \"amigo\")"
   ]
  },
  {
   "cell_type": "code",
   "execution_count": null,
   "metadata": {},
   "outputs": [],
   "source": []
  },
  {
   "cell_type": "code",
   "execution_count": null,
   "metadata": {},
   "outputs": [],
   "source": []
  },
  {
   "cell_type": "code",
   "execution_count": null,
   "metadata": {},
   "outputs": [],
   "source": []
  },
  {
   "cell_type": "code",
   "execution_count": null,
   "metadata": {},
   "outputs": [],
   "source": []
  },
  {
   "cell_type": "code",
   "execution_count": null,
   "metadata": {},
   "outputs": [],
   "source": []
  },
  {
   "cell_type": "code",
   "execution_count": null,
   "metadata": {},
   "outputs": [],
   "source": []
  },
  {
   "cell_type": "code",
   "execution_count": null,
   "metadata": {},
   "outputs": [],
   "source": []
  },
  {
   "cell_type": "code",
   "execution_count": null,
   "metadata": {},
   "outputs": [],
   "source": []
  },
  {
   "cell_type": "markdown",
   "metadata": {},
   "source": []
  }
 ],
 "metadata": {
  "kernelspec": {
   "display_name": "Python 3",
   "language": "python",
   "name": "python3"
  },
  "language_info": {
   "codemirror_mode": {
    "name": "ipython",
    "version": 3
   },
   "file_extension": ".py",
   "mimetype": "text/x-python",
   "name": "python",
   "nbconvert_exporter": "python",
   "pygments_lexer": "ipython3",
   "version": "3.12.4"
  }
 },
 "nbformat": 4,
 "nbformat_minor": 2
}
