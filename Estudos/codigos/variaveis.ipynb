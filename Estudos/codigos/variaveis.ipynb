{
 "cells": [
  {
   "cell_type": "code",
   "execution_count": null,
   "metadata": {},
   "outputs": [],
   "source": [
    "idade = 32\n",
    "nome = \" cristina\"\n",
    "\n",
    "print(\"Nome:\", nome)\n",
    "print(\"Idade:\", idade)\n",
    "print(\"Nome:\", nome, \", Idade:\", idade)"
   ]
  },
  {
   "cell_type": "code",
   "execution_count": null,
   "metadata": {},
   "outputs": [],
   "source": [
    "# quando escreve o TYPE na frente e para saber \n",
    "# qual o tipo dela variavel\n",
    "\n",
    "nome = str(\"cristina\")\n",
    "idade = 31\n",
    "\n",
    "print(type(nome))\n",
    "print(type(idade))"
   ]
  },
  {
   "cell_type": "code",
   "execution_count": null,
   "metadata": {
    "vscode": {
     "languageId": "plaintext"
    }
   },
   "outputs": [],
   "source": [
    "# atribuindo valor de uma variavel em uma so linha\n",
    "\n",
    "var1, var2, var3, var4 = \"Texto 1\", \"Texto 2\", \"Texto 3\", \"Texto 4\"\n",
    "print(var1)\n",
    "print(var2)\n",
    "print(var3)\n",
    "print(var4)"
   ]
  },
  {
   "cell_type": "code",
   "execution_count": null,
   "metadata": {
    "vscode": {
     "languageId": "plaintext"
    }
   },
   "outputs": [],
   "source": [
    "# atribuindo valor de uma variavel em uma so linha\n",
    "\n",
    "var1, var2, var3, var4 = \"Texto 1\", \"Texto 2\", \"Texto 3\", \"Texto 4\"\n",
    "print(var1)\n",
    "print(var2)\n",
    "print(var3)\n",
    "print(var4)\n"
   ]
  },
  {
   "cell_type": "code",
   "execution_count": null,
   "metadata": {
    "vscode": {
     "languageId": "plaintext"
    }
   },
   "outputs": [],
   "source": [
    "# podemos atribuir o mesmo valor a varias variaveis em uma unica linha \n",
    "\n",
    "var1 = var2 =  var3 = var4 = \"cristina\" \n",
    "print(var1)\n",
    "print(var2)\n",
    "print(var3)\n",
    "print(var4)"
   ]
  },
  {
   "cell_type": "code",
   "execution_count": null,
   "metadata": {
    "vscode": {
     "languageId": "plaintext"
    }
   },
   "outputs": [],
   "source": [
    "# Se tiver uma colecao de valores em uma Lista,\n",
    "#  podemos extrair em variaveis. \n",
    "# Isso e chamado de descompactar \n",
    "\n",
    "novidade = 1, \"Texto 2\", 3, \"Texto 4\"\n",
    "var1, var2, var3, var4  = novidade \n",
    "\n",
    "print(type(var1))\n",
    "print(var2)\n",
    "print(type(var3))\n",
    "print(var4)"
   ]
  },
  {
   "cell_type": "code",
   "execution_count": null,
   "metadata": {
    "vscode": {
     "languageId": "plaintext"
    }
   },
   "outputs": [],
   "source": [
    "# para fazer a ligacao das frases pode uma \n",
    "# o \" + \"  ou \" , \" lembrando que o \" + \" \n",
    "# ele nao aceita numero e a  \" , \" ele aceita o numero\n",
    "\n",
    "nome = \"cristina\"\n",
    "\n",
    "print(\"O nome dela e \" + nome)\n",
    "\n",
    "\n",
    "#outra forma de usa o caracter + ou , \n",
    "\n",
    "nome = \"cristina\"\n",
    "sobrenome = \"alves\"\n",
    "print(\"O nome dela e \" + nome)\n",
    "print(\"O sobrenome dela e \" + nome)\n",
    "\n",
    "print('Nome completo : ' + nome + ' ' + sobrenome) \n",
    "\n",
    "# outra forma de usa o caracter + ou , \n",
    "nome = \"cristina\"\n",
    "sobrenome = \"alves\"\n",
    "print(\"O nome dela e \" + nome)\n",
    "print(\"O sobrenome dela e \" + nome)\n",
    "\n",
    "print('Nome completo : ' + nome + ' ' + sobrenome)"
   ]
  },
  {
   "cell_type": "code",
   "execution_count": null,
   "metadata": {
    "vscode": {
     "languageId": "plaintext"
    }
   },
   "outputs": [],
   "source": [
    "            # exercicio de fixacao de variaveis \n",
    "\n",
    "# 1º. Declare uma variavel chamado \"idade\" e atribua o valor de 25 a ela. \n",
    "idade = 25 \n",
    "print(\"O valor da idade é:\", idade)\n",
    "\n",
    "# 2º. Declare uma variavel chamada \"nome\" e atribua o valor \"João \" a ela.\n",
    "nome = \"João\"\n",
    "print(\"O nome atribuido foi:\" , nome)\n",
    "\n",
    "# 3º. Declare uma variavel chamada \"saldo\" e atribua o valor 100.50 a ela.\n",
    "saldo = 100.50\n",
    "print(\"O saldo é:\", saldo)\n",
    "\n",
    "# 4º. Crie uma variavel chama \" soma\" e atribua a ela a soma das variaveis \"idade\" e \"saldo\"\n",
    "soma = idade + saldo\n",
    "\n",
    "# 5º. Imprima na tela o valor da variavel \"soma\"\n",
    "print(\"A soma é:\", soma)\n"
   ]
  },
  {
   "cell_type": "code",
   "execution_count": null,
   "metadata": {
    "vscode": {
     "languageId": "plaintext"
    }
   },
   "outputs": [],
   "source": [
    " # exercicio de fixacao de variaveis \n",
    "\n",
    "# 1º. Crie uma variavel chamada \"nota1\" e atribua o valor 7.5 a ela. \n",
    "nota1 = 7.5\n",
    "\n",
    "# 2º. Crie uma variavel chamada \"nota2\" e atribua o valor 8.3 a ela.\n",
    "nota2 = 8.3\n",
    "\n",
    "# 3º. Crie uma variavel chamada \"nota3\" e atribua o valor 6.9 a ela.\n",
    "nota3 = 6.9\n",
    "\n",
    "# 4º. Calcule a media das tres notas e atribua o resultado a uma variavel chamada \"media\"\n",
    "media = (nota1 + nota2 + nota3) / 3\n",
    "\n",
    "# 5º. Imprima na tela o valor da variavel \"media\" formatado com duas casa decimaais.\n",
    "print(\"A media é: \" ,format(media, \".2f\"))\n"
   ]
  },
  {
   "cell_type": "code",
   "execution_count": null,
   "metadata": {
    "vscode": {
     "languageId": "plaintext"
    }
   },
   "outputs": [],
   "source": [
    " # teste de fixacao de variaveis \n",
    "\n",
    "# 1. Crie uma variável chamada nome e atribua o seu nome a ela como um valor.\n",
    "nome = \"erivanderson\"\n",
    "print(\"seu nome é: \", nome)\n",
    "# 2. Crie duas variáveis chamadas idade e ano_atual. \n",
    "idade = 32\n",
    "ano_atual = 2024\n",
    "print(\"Sua idade é:\", idade, \"e o ano atual é:\", ano_atual)\n",
    "\n",
    "# 3. Calcule o ano em que você nasceu.\n",
    "idade = 32\n",
    "ano_atual = 2024\n",
    "ano_nascimento = ano_atual - idade\n",
    "print(f\"Você nasceu no ano de: {ano_nascimento}\")\n",
    "\n",
    "# 4. Incremente a variável idade em 1.\n",
    "idade +=1\n",
    "print(f\"Sua idade no próximo ano será: {idade}\")\n",
    "\n",
    "# 5. Imprima as mensagens.\n",
    "print(\"Ano que vem você ficará mas velho!!\")"
   ]
  },
  {
   "cell_type": "code",
   "execution_count": null,
   "metadata": {
    "vscode": {
     "languageId": "plaintext"
    }
   },
   "outputs": [],
   "source": []
  },
  {
   "cell_type": "code",
   "execution_count": null,
   "metadata": {
    "vscode": {
     "languageId": "plaintext"
    }
   },
   "outputs": [],
   "source": []
  },
  {
   "cell_type": "code",
   "execution_count": null,
   "metadata": {
    "vscode": {
     "languageId": "plaintext"
    }
   },
   "outputs": [],
   "source": []
  },
  {
   "cell_type": "code",
   "execution_count": null,
   "metadata": {
    "vscode": {
     "languageId": "plaintext"
    }
   },
   "outputs": [],
   "source": []
  },
  {
   "cell_type": "code",
   "execution_count": null,
   "metadata": {
    "vscode": {
     "languageId": "plaintext"
    }
   },
   "outputs": [],
   "source": []
  },
  {
   "cell_type": "code",
   "execution_count": null,
   "metadata": {
    "vscode": {
     "languageId": "plaintext"
    }
   },
   "outputs": [],
   "source": []
  },
  {
   "cell_type": "code",
   "execution_count": null,
   "metadata": {
    "vscode": {
     "languageId": "plaintext"
    }
   },
   "outputs": [],
   "source": []
  },
  {
   "cell_type": "code",
   "execution_count": null,
   "metadata": {
    "vscode": {
     "languageId": "plaintext"
    }
   },
   "outputs": [],
   "source": []
  },
  {
   "cell_type": "code",
   "execution_count": null,
   "metadata": {
    "vscode": {
     "languageId": "plaintext"
    }
   },
   "outputs": [],
   "source": []
  },
  {
   "cell_type": "code",
   "execution_count": null,
   "metadata": {
    "vscode": {
     "languageId": "plaintext"
    }
   },
   "outputs": [],
   "source": []
  },
  {
   "cell_type": "code",
   "execution_count": null,
   "metadata": {
    "vscode": {
     "languageId": "plaintext"
    }
   },
   "outputs": [],
   "source": []
  },
  {
   "cell_type": "code",
   "execution_count": null,
   "metadata": {
    "vscode": {
     "languageId": "plaintext"
    }
   },
   "outputs": [],
   "source": []
  },
  {
   "cell_type": "code",
   "execution_count": null,
   "metadata": {
    "vscode": {
     "languageId": "plaintext"
    }
   },
   "outputs": [],
   "source": []
  },
  {
   "cell_type": "code",
   "execution_count": null,
   "metadata": {
    "vscode": {
     "languageId": "plaintext"
    }
   },
   "outputs": [],
   "source": []
  },
  {
   "cell_type": "code",
   "execution_count": null,
   "metadata": {
    "vscode": {
     "languageId": "plaintext"
    }
   },
   "outputs": [],
   "source": []
  },
  {
   "cell_type": "code",
   "execution_count": null,
   "metadata": {
    "vscode": {
     "languageId": "plaintext"
    }
   },
   "outputs": [],
   "source": []
  },
  {
   "cell_type": "code",
   "execution_count": null,
   "metadata": {
    "vscode": {
     "languageId": "plaintext"
    }
   },
   "outputs": [],
   "source": []
  },
  {
   "cell_type": "code",
   "execution_count": null,
   "metadata": {
    "vscode": {
     "languageId": "plaintext"
    }
   },
   "outputs": [],
   "source": []
  },
  {
   "cell_type": "code",
   "execution_count": null,
   "metadata": {
    "vscode": {
     "languageId": "plaintext"
    }
   },
   "outputs": [],
   "source": []
  },
  {
   "cell_type": "code",
   "execution_count": null,
   "metadata": {
    "vscode": {
     "languageId": "plaintext"
    }
   },
   "outputs": [],
   "source": []
  },
  {
   "cell_type": "code",
   "execution_count": null,
   "metadata": {
    "vscode": {
     "languageId": "plaintext"
    }
   },
   "outputs": [],
   "source": []
  },
  {
   "cell_type": "code",
   "execution_count": null,
   "metadata": {
    "vscode": {
     "languageId": "plaintext"
    }
   },
   "outputs": [],
   "source": []
  },
  {
   "cell_type": "code",
   "execution_count": null,
   "metadata": {
    "vscode": {
     "languageId": "plaintext"
    }
   },
   "outputs": [],
   "source": []
  },
  {
   "cell_type": "code",
   "execution_count": null,
   "metadata": {
    "vscode": {
     "languageId": "plaintext"
    }
   },
   "outputs": [],
   "source": []
  },
  {
   "cell_type": "code",
   "execution_count": null,
   "metadata": {
    "vscode": {
     "languageId": "plaintext"
    }
   },
   "outputs": [],
   "source": []
  },
  {
   "cell_type": "code",
   "execution_count": null,
   "metadata": {
    "vscode": {
     "languageId": "plaintext"
    }
   },
   "outputs": [],
   "source": []
  },
  {
   "cell_type": "code",
   "execution_count": null,
   "metadata": {
    "vscode": {
     "languageId": "plaintext"
    }
   },
   "outputs": [],
   "source": []
  },
  {
   "cell_type": "code",
   "execution_count": null,
   "metadata": {
    "vscode": {
     "languageId": "plaintext"
    }
   },
   "outputs": [],
   "source": []
  },
  {
   "cell_type": "code",
   "execution_count": null,
   "metadata": {
    "vscode": {
     "languageId": "plaintext"
    }
   },
   "outputs": [],
   "source": []
  },
  {
   "cell_type": "code",
   "execution_count": null,
   "metadata": {
    "vscode": {
     "languageId": "plaintext"
    }
   },
   "outputs": [],
   "source": []
  },
  {
   "cell_type": "code",
   "execution_count": null,
   "metadata": {
    "vscode": {
     "languageId": "plaintext"
    }
   },
   "outputs": [],
   "source": []
  },
  {
   "cell_type": "code",
   "execution_count": null,
   "metadata": {
    "vscode": {
     "languageId": "plaintext"
    }
   },
   "outputs": [],
   "source": []
  },
  {
   "cell_type": "code",
   "execution_count": null,
   "metadata": {
    "vscode": {
     "languageId": "plaintext"
    }
   },
   "outputs": [],
   "source": []
  }
 ],
 "metadata": {
  "language_info": {
   "name": "python"
  }
 },
 "nbformat": 4,
 "nbformat_minor": 2
}
